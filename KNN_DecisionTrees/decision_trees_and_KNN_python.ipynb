{
 "cells": [
  {
   "cell_type": "code",
   "execution_count": 1,
   "metadata": {},
   "outputs": [],
   "source": [
    "import numpy as np\n",
    "from time import sleep\n",
    "from tqdm import tqdm\n",
    "from numpy import asarray\n",
    "import cv2 \n",
    "\n",
    "from PIL import Image, ImageEnhance\n",
    "\n",
    "from os.path import dirname, join as pjoin\n",
    "import scipy.io as sio\n",
    "\n",
    "from sklearn.neighbors import KNeighborsClassifier\n",
    "from IPython.display import clear_output\n",
    "\n",
    "import timeit\n",
    "\n",
    "from sklearn.metrics import confusion_matrix\n",
    "from sklearn import tree\n",
    "\n",
    "import matplotlib.pyplot as plt\n"
   ]
  },
  {
   "cell_type": "code",
   "execution_count": 2,
   "metadata": {},
   "outputs": [],
   "source": [
    "mat = sio.loadmat('80_20_data.mat')"
   ]
  },
  {
   "cell_type": "code",
   "execution_count": 3,
   "metadata": {},
   "outputs": [],
   "source": [
    "# Simplify variable names\n",
    "train_cat = mat['TRAIN_CAT']\n",
    "train_dog = mat['TRAIN_DOG']\n",
    "test_cat = mat['TEST_CAT_NEW']\n",
    "test_dog = mat['TEST_DOG_NEW']"
   ]
  },
  {
   "cell_type": "code",
   "execution_count": 4,
   "metadata": {},
   "outputs": [],
   "source": [
    "# Make label vectors for train\n",
    "labels = [\"cat\"]\n",
    "for i in range(1,10000):\n",
    "    labels = np.concatenate((labels, [\"cat\"]), axis=0)\n",
    "for i in range(0,10000):\n",
    "    labels = np.concatenate((labels, [\"dog\"]), axis=0)\n",
    "\n",
    "# Turn images black and white\n",
    "black_and_white_train = []\n",
    "for i in range(0,10000):\n",
    "    image = cv2.cvtColor(train_cat[:,:,:,i], cv2.COLOR_RGB2GRAY)\n",
    "    black_and_white_train.append(image.flatten())\n",
    "for i in range(0,10000):\n",
    "    image = cv2.cvtColor(train_dog[:,:,:,i], cv2.COLOR_RGB2GRAY)\n",
    "    black_and_white_train.append(image.flatten())"
   ]
  },
  {
   "cell_type": "code",
   "execution_count": 5,
   "metadata": {},
   "outputs": [],
   "source": [
    "# Make label vector for test\n",
    "CorrectLabels = [\"cat\"]\n",
    "for i in range(1,2500):\n",
    "    CorrectLabels = np.concatenate((CorrectLabels, [\"cat\"]), axis=0)\n",
    "for i in range(0,2500):\n",
    "    CorrectLabels = np.concatenate((CorrectLabels, [\"dog\"]), axis=0)\n",
    "    \n",
    "# Turn images black and white\n",
    "black_and_white_test = []\n",
    "for i in range(0,2500):\n",
    "    image = cv2.cvtColor(test_cat[:,:,:,i], cv2.COLOR_RGB2GRAY)\n",
    "    black_and_white_test.append(image.flatten())\n",
    "for i in range(0,2500):\n",
    "    image = cv2.cvtColor(test_dog[:,:,:,i], cv2.COLOR_RGB2GRAY)\n",
    "    black_and_white_test.append(image.flatten())"
   ]
  },
  {
   "cell_type": "code",
   "execution_count": 6,
   "metadata": {},
   "outputs": [],
   "source": [
    "#Decision Tree Code\n",
    "# Create Model\n",
    "#clf = tree.DecisionTreeClassifier()\n",
    "#clf = clf.fit(black_and_white_train, labels)\n",
    "#predicted_groups = clf.predict(black_and_white_test)\n",
    "# cm = confusion_matrix(CorrectLabels, predicted_groups)\n",
    "# from sklearn.metrics import confusion_matrix, ConfusionMatrixDisplay\n",
    "# disp = ConfusionMatrixDisplay(confusion_matrix=cm, display_labels=clf.classes_)\n",
    "# disp.plot()\n",
    "# plt.show()"
   ]
  },
  {
   "cell_type": "code",
   "execution_count": null,
   "metadata": {},
   "outputs": [],
   "source": [
    "#KNN \n",
    "from sklearn.neighbors import KNeighborsClassifier\n",
    "neigh = KNeighborsClassifier(n_neighbors=3)\n",
    "neigh.fit(black_and_white_train, labels)\n",
    "predicted_groups = neigh.predict(black_and_white_test)\n",
    "cm = confusion_matrix(CorrectLabels, predicted_groups)\n",
    "from sklearn.metrics import confusion_matrix, ConfusionMatrixDisplay\n",
    "disp = ConfusionMatrixDisplay(confusion_matrix=cm, display_labels=neigh.classes_)\n",
    "disp.plot()\n",
    "plt.show()"
   ]
  },
  {
   "cell_type": "code",
   "execution_count": null,
   "metadata": {},
   "outputs": [],
   "source": []
  }
 ],
 "metadata": {
  "kernelspec": {
   "display_name": "Python 3 (ipykernel)",
   "language": "python",
   "name": "python3"
  },
  "language_info": {
   "codemirror_mode": {
    "name": "ipython",
    "version": 3
   },
   "file_extension": ".py",
   "mimetype": "text/x-python",
   "name": "python",
   "nbconvert_exporter": "python",
   "pygments_lexer": "ipython3",
   "version": "3.9.7"
  }
 },
 "nbformat": 4,
 "nbformat_minor": 4
}
