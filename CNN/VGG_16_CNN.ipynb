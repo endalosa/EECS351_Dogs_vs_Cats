{
 "cells": [
  {
   "cell_type": "code",
   "execution_count": 1,
   "id": "388169df",
   "metadata": {},
   "outputs": [],
   "source": [
    "import os\n",
    "import random\n",
    "import numpy as np\n",
    "import torch\n",
    "import torch.nn as nn\n",
    "import torch.nn.functional as F\n",
    "import time"
   ]
  },
  {
   "cell_type": "code",
   "execution_count": 2,
   "id": "a3f6a0ec",
   "metadata": {},
   "outputs": [],
   "source": [
    "# Change data_path to folder containg data\n",
    "DATA_PATH = \"./cats_and_dogs_filtered\" \n",
    "## Loading Data\n",
    "def load_data(data_path=DATA_PATH):\n",
    "    \n",
    "    '''\n",
    "    Returns the data loader for \n",
    "    train and validation dataset. Sets batchsize to 32.\n",
    "    \n",
    "    ARgs: \n",
    "    data_path = folder containing data\n",
    "    '''\n",
    "\n",
    "    import torchvision\n",
    "    import torchvision.datasets as datasets\n",
    "    import torchvision.transforms as transforms\n",
    "\n",
    "    batchsize = 32\n",
    "    train_dataset = torchvision.datasets.ImageFolder(root=os.path.join(DATA_PATH, 'train'),\n",
    "                                                     transform=transforms.Compose([transforms.RandomResizedCrop(224),\n",
    "                                                                                   transforms.ToTensor()]))\n",
    "    val_dataset = torchvision.datasets.ImageFolder(root=os.path.join(DATA_PATH, 'validation'),\n",
    "                                                   transform = transforms.Compose([transforms.RandomResizedCrop(224),\n",
    "                                                                                   transforms.ToTensor()]))\n",
    "    train_loader = torch.utils.data.DataLoader(train_dataset, batch_size=batchsize, shuffle=True)\n",
    "    val_loader = torch.utils.data.DataLoader(val_dataset, batch_size=batchsize, shuffle=False)\n",
    "    \n",
    "    return train_loader, val_loader"
   ]
  },
  {
   "cell_type": "code",
   "execution_count": 3,
   "id": "d9f5f441",
   "metadata": {},
   "outputs": [],
   "source": [
    "## Defining the model\n",
    "# defining a cnn model\n",
    "def cnn_model():\n",
    "    from torchvision import models\n",
    "    \n",
    "    model = models.vgg16(pretrained=False)\n",
    "#     model = models.resnet18(pretrained=False)\n",
    "    \n",
    "    return model\n",
    "model = cnn_model()\n",
    "\n",
    "# specifying loss function and optimizer\n",
    "criterion = nn.CrossEntropyLoss()\n",
    "optimizer = torch.optim.SGD(model.parameters(), lr=0.01)\n",
    "## Training the model\n",
    "# You can experiment different numbers for n_epochs, but even 1 epoch should be good enough.\n",
    "n_epochs = 5"
   ]
  },
  {
   "cell_type": "code",
   "execution_count": 4,
   "id": "5baedf25",
   "metadata": {},
   "outputs": [
    {
     "name": "stdout",
     "output_type": "stream",
     "text": [
      "Epoch 0: curr_epoch_loss=1.1726555824279785\n",
      "Epoch 1: curr_epoch_loss=0.7173853516578674\n",
      "Epoch 2: curr_epoch_loss=0.7126936912536621\n",
      "Epoch 3: curr_epoch_loss=0.7079043388366699\n",
      "Epoch 4: curr_epoch_loss=0.7068163156509399\n"
     ]
    }
   ],
   "source": [
    "def train_model(model, train_dataloader, n_epoch=n_epochs, optimizer=optimizer, criterion=criterion):\n",
    "    import torch.optim as optim\n",
    "    \"\"\"\n",
    "    :param model: A CNN model\n",
    "    :param train_dataloader: the DataLoader of the training data\n",
    "    :param n_epoch: number of epochs to train\n",
    "    :return:\n",
    "        model: trained model\n",
    "    \"\"\"\n",
    "    model.train() # prep model for training\n",
    "    train_loss = 0\n",
    "    \n",
    "    for epoch in range(n_epoch):\n",
    "        curr_epoch_loss = []\n",
    "        for data, target in train_dataloader:\n",
    "            optimizer.zero_grad()\n",
    "            y_hat = model(data)\n",
    "            loss = criterion(y_hat, target)\n",
    "            loss.backward()\n",
    "            optimizer.step()\n",
    "            train_loss += loss.item()\n",
    "            \n",
    "            curr_epoch_loss.append(loss.cpu().data.numpy())\n",
    "        print(f\"Epoch {epoch}: curr_epoch_loss={np.mean(curr_epoch_loss)}\")\n",
    "    return model\n",
    "# get train and val data loader\n",
    "train_loader, val_loader = load_data()\n",
    "\n",
    "seed = 24\n",
    "random.seed(seed)\n",
    "np.random.seed(seed)\n",
    "torch.manual_seed(seed)\n",
    "\n",
    "model = train_model(model, train_loader)"
   ]
  },
  {
   "cell_type": "code",
   "execution_count": 5,
   "id": "5969c02c",
   "metadata": {},
   "outputs": [
    {
     "name": "stdout",
     "output_type": "stream",
     "text": [
      "Validation Accuracy: 0.5\n"
     ]
    }
   ],
   "source": [
    "## Testing the model\n",
    "def eval_model(model, dataloader):\n",
    "    \"\"\"\n",
    "    :return:\n",
    "        Y_pred: prediction of model on the dataloder.\n",
    "            Should be an 2D numpy float array where the second dimension has length 2.\n",
    "        Y_test: truth labels. Should be an numpy array of ints\n",
    "    \"\"\"\n",
    "    model.eval()\n",
    "    Y_pred = []\n",
    "    Y_test = []\n",
    "    for data, target in dataloader:\n",
    "        # your code here\n",
    "        y_hat = model(data)\n",
    "        _, pred = torch.max(y_hat, dim=1)\n",
    "        Y_pred.append(pred.detach().numpy().reshape(-1,1))\n",
    "        Y_test.append(target.detach().numpy().reshape(-1,1))\n",
    "        \n",
    "    Y_pred = np.concatenate(Y_pred, axis=0)\n",
    "    Y_test = np.concatenate(Y_test, axis=0)\n",
    "\n",
    "    return Y_pred, Y_test\n",
    "from sklearn.metrics import accuracy_score\n",
    "\n",
    "y_pred, y_true = eval_model(model, val_loader)\n",
    "acc = accuracy_score(y_true, y_pred)\n",
    "print((\"Validation Accuracy: \" + str(acc)))"
   ]
  },
  {
   "cell_type": "code",
   "execution_count": 6,
   "id": "f66ddc59",
   "metadata": {},
   "outputs": [],
   "source": [
    "# # local_zip = '/tmp/cats_and_dogs_filtered.zip'\n",
    "# # zip_ref = zipfile.ZipFile(local_zip, 'r')\n",
    "# # zip_ref.extractall('/tmp')\n",
    "# # zip_ref.close()\n",
    "\n",
    "# base_dir = '/tmp/cats_and_dogs_filtered'\n",
    "# train_dir = '/cats_and_dogs_filtered/train'\n",
    "# validation_dir = '/cats_and_dogs_filtered/validation'\n",
    "\n",
    "# # Directory with our training cat pictures\n",
    "# train_cats_dir = '/cats_and_dogs_filtered/train/cats'\n",
    "\n",
    "# # Directory with our training dog pictures\n",
    "# train_dogs_dir = '/cats_and_dogs_filtered/train/dogs'\n",
    "\n",
    "# # Directory with our validation cat pictures\n",
    "# validation_cats_dir = '/cats_and_dogs_filtered/validation/cats'\n",
    "\n",
    "# # Directory with our validation dog pictures\n",
    "# validation_dogs_dir = '/cats_and_dogs_filtered/validation/dogs'"
   ]
  },
  {
   "cell_type": "code",
   "execution_count": 7,
   "id": "a1007e0c",
   "metadata": {},
   "outputs": [],
   "source": [
    "# ## CNN:\n",
    "\n",
    "# # Flow training images in batches of 20 using train_datagen generator\n",
    "# train_generator = train_datagen.flow_from_directory(train_dir, batch_size = 20, class_mode = 'binary', target_size = (224, 224))\n",
    "\n",
    "# # Flow validation images in batches of 20 using test_datagen generator\n",
    "# validation_generator = test_datagen.flow_from_directory( validation_dir,  batch_size = 20, class_mode = 'binary', target_size = (224, 224))"
   ]
  },
  {
   "cell_type": "code",
   "execution_count": 8,
   "id": "fca908f5",
   "metadata": {},
   "outputs": [],
   "source": [
    "# from tensorflow.keras.applications.vgg16 import VGG16\n",
    "# base_model = VGG16(input_shape = (200, 200, 3), include_top = False, weights = 'imagenet')\n",
    "\n",
    "# for layer in base_model.layers:\n",
    "#     layer.trainable = False"
   ]
  },
  {
   "cell_type": "code",
   "execution_count": 9,
   "id": "2b286bdf",
   "metadata": {},
   "outputs": [],
   "source": [
    "# # Flatten the output layer to 1 dimension\n",
    "# x = layers.Flatten()(base_model.output)\n",
    "\n",
    "# # Add a fully connected layer with 512 hidden units and ReLU activation\n",
    "# x = layers.Dense(512, activation='relu')(x)\n",
    "\n",
    "# # Add a dropout rate of 0.5\n",
    "# x = layers.Dropout(0.5)(x)\n",
    "\n",
    "# # Add a final sigmoid layer with 1 node for classification output\n",
    "# x = layers.Dense(1, activation='sigmoid')(x)\n",
    "\n",
    "# model = tf.keras.models.Model(base_model.input, x)\n",
    "\n",
    "# model.compile(optimizer = tf.keras.optimizers.RMSprop(lr=0.0001), loss = 'binary_crossentropy',metrics = ['acc'])\n",
    "\n",
    "# vgghist = model.fit(train_generator, validation_data = validation_generator, steps_per_epoch = 100, epochs = 10)"
   ]
  }
 ],
 "metadata": {
  "kernelspec": {
   "display_name": "Python 3 (ipykernel)",
   "language": "python",
   "name": "python3"
  },
  "language_info": {
   "codemirror_mode": {
    "name": "ipython",
    "version": 3
   },
   "file_extension": ".py",
   "mimetype": "text/x-python",
   "name": "python",
   "nbconvert_exporter": "python",
   "pygments_lexer": "ipython3",
   "version": "3.9.7"
  }
 },
 "nbformat": 4,
 "nbformat_minor": 5
}
