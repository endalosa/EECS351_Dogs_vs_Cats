{
  "cells": [
    {
      "cell_type": "markdown",
      "metadata": {
        "id": "oFLxy-0Z8_Hj"
      },
      "source": [
        "### **Imports**"
      ],
      "id": "oFLxy-0Z8_Hj"
    },
    {
      "cell_type": "code",
      "execution_count": null,
      "metadata": {
        "id": "ad82dd5f"
      },
      "outputs": [],
      "source": [
        "import os\n",
        "import random\n",
        "import numpy as np\n",
        "import torch\n",
        "import torch.nn as nn\n",
        "import torch.nn.functional as F\n",
        "import time\n",
        "import tensorflow as tf\n",
        "from tensorflow import keras\n",
        "from keras import layers\n",
        "from keras.models import Sequential\n",
        "from keras.layers.convolutional import Conv2D\n",
        "from keras.layers import Conv2D, MaxPooling2D\n",
        "from keras.preprocessing.image import ImageDataGenerator\n",
        "from keras.layers import Dense, Activation, Flatten\n",
        "from tensorflow.keras.optimizers import SGD\n",
        "from keras.metrics import binary_accuracy"
      ],
      "id": "ad82dd5f"
    },
    {
      "cell_type": "code",
      "execution_count": null,
      "metadata": {
        "colab": {
          "base_uri": "https://localhost:8080/"
        },
        "id": "PgJSB27ePRjC",
        "outputId": "dec086b8-6c8f-482f-bb7e-17fb7cee198f"
      },
      "outputs": [
        {
          "output_type": "stream",
          "name": "stdout",
          "text": [
            "Mounted at /content/drive\n"
          ]
        }
      ],
      "source": [
        "from google.colab import drive\n",
        "drive.mount('/content/drive')"
      ],
      "id": "PgJSB27ePRjC"
    },
    {
      "cell_type": "markdown",
      "metadata": {
        "id": "HzA8x_P89H4W"
      },
      "source": [
        "### **Create model**"
      ],
      "id": "HzA8x_P89H4W"
    },
    {
      "cell_type": "code",
      "execution_count": null,
      "metadata": {
        "id": "b6812533"
      },
      "outputs": [],
      "source": [
        "# define cnn model\n",
        "def define_model():\n",
        "\tmodel = Sequential()\n",
        "\tmodel.add(Conv2D(32, (3, 3), activation='relu', kernel_initializer='he_uniform', padding='same', input_shape=(200, 200, 3)))\n",
        "\tmodel.add(MaxPooling2D((2, 2)))\n",
        "\tmodel.add(Flatten())\n",
        "\tmodel.add(Dense(128, activation='relu', kernel_initializer='he_uniform'))\n",
        "\tmodel.add(Dense(1, activation='sigmoid'))\n",
        "\t# compile model\n",
        "\topt = SGD(lr=0.001, momentum=0.9)\n",
        "\tmodel.compile(optimizer=opt, loss='binary_crossentropy', metrics=['accuracy'])\n",
        "\treturn model"
      ],
      "id": "b6812533"
    },
    {
      "cell_type": "code",
      "execution_count": null,
      "metadata": {
        "colab": {
          "base_uri": "https://localhost:8080/"
        },
        "id": "d1a0a44e",
        "outputId": "efeb1f43-4897-4ae3-eae7-b30939c27042"
      },
      "outputs": [
        {
          "output_type": "stream",
          "name": "stderr",
          "text": [
            "/usr/local/lib/python3.7/dist-packages/keras/optimizer_v2/gradient_descent.py:102: UserWarning: The `lr` argument is deprecated, use `learning_rate` instead.\n",
            "  super(SGD, self).__init__(name, **kwargs)\n"
          ]
        }
      ],
      "source": [
        "# make model\n",
        "model = define_model()\n",
        "# create data generator\n",
        "datagen = ImageDataGenerator(rescale=1.0/255.0)"
      ],
      "id": "d1a0a44e"
    },
    {
      "cell_type": "markdown",
      "metadata": {
        "id": "aecNyvPM9-8L"
      },
      "source": [
        "### **Train model**"
      ],
      "id": "aecNyvPM9-8L"
    },
    {
      "cell_type": "code",
      "execution_count": null,
      "metadata": {
        "colab": {
          "base_uri": "https://localhost:8080/"
        },
        "id": "Eshmf11r-qE2",
        "outputId": "bf26da8f-f5e8-4a04-c2c3-392bbdd44f7c"
      },
      "outputs": [
        {
          "output_type": "stream",
          "name": "stdout",
          "text": [
            "Found 20000 images belonging to 2 classes.\n",
            "Found 5000 images belonging to 2 classes.\n"
          ]
        }
      ],
      "source": [
        "# prepare iterators\n",
        "train_it = datagen.flow_from_directory(\"./drive/Shareddrives/EECS 351 Project/cats_and_dogs_filtered/train\" , class_mode='binary', shuffle=True, batch_size=64, target_size=(200, 200))\n",
        "test_it = datagen.flow_from_directory(\"./drive/Shareddrives/EECS 351 Project/cats_and_dogs_filtered/validation\", class_mode='binary', shuffle=False, batch_size=64, target_size=(200, 200))"
      ],
      "id": "Eshmf11r-qE2"
    },
    {
      "cell_type": "code",
      "execution_count": null,
      "metadata": {
        "id": "38bab788"
      },
      "outputs": [],
      "source": [
        "# fit model\n",
        "history = model.fit(train_it, steps_per_epoch=len(train_it),\n",
        "validation_data = test_it, validation_steps=len(test_it), epochs=20, verbose=0)"
      ],
      "id": "38bab788"
    },
    {
      "cell_type": "markdown",
      "metadata": {
        "id": "gwyl8eIa-DiW"
      },
      "source": [
        "### **Test model**"
      ],
      "id": "gwyl8eIa-DiW"
    },
    {
      "cell_type": "code",
      "execution_count": null,
      "metadata": {
        "id": "f66ddc59"
      },
      "outputs": [],
      "source": [
        "# evaluate model and print accuracy & loss\n",
        "loss, accuracy = model.evaluate(test_it, steps=len(test_it), verbose=0)\n",
        "print('Test loss: > %.3f' % (loss));\n",
        "print('Test accuracy: > %.3f' % (accuracy * 100.0))"
      ],
      "id": "f66ddc59"
    },
    {
      "cell_type": "markdown",
      "metadata": {
        "id": "7O-ZGvaK-GVf"
      },
      "source": [
        "### **Create Graphs**"
      ],
      "id": "7O-ZGvaK-GVf"
    },
    {
      "cell_type": "code",
      "execution_count": null,
      "metadata": {
        "id": "5HMsYh0G8udV"
      },
      "outputs": [],
      "source": [
        "# make confusion matrix\n",
        "import sklearn.metrics as metrics\n",
        "from sklearn.metrics import confusion_matrix\n",
        "\n",
        "##predict based on test data\n",
        "predicted_labels = model.predict(test_it);"
      ],
      "id": "5HMsYh0G8udV"
    },
    {
      "cell_type": "code",
      "execution_count": null,
      "metadata": {
        "id": "3b1Li6KvW0zE"
      },
      "outputs": [],
      "source": [
        "##generate correct labels \n",
        "CorrectLabels = []\n",
        "for i in range(0,2500):\n",
        "    CorrectLabels.append(0);\n",
        "for i in range(0,2500):\n",
        "    CorrectLabels.append(1);\n",
        "\n",
        "##turn probabilities to binary values\n",
        "actualPredictedLabels = [];\n",
        "\n",
        "for i in range(0,5000):\n",
        "  if predicted_labels[i] > 0.5:\n",
        "   actualPredictedLabels.append(1);\n",
        "  else:\n",
        "    actualPredictedLabels.append(0);\n",
        "\n",
        "cm = confusion_matrix(CorrectLabels, actualPredictedLabels)\n",
        "from sklearn.metrics import confusion_matrix, ConfusionMatrixDisplay\n",
        "disp = ConfusionMatrixDisplay(confusion_matrix=cm)\n",
        "disp.plot()"
      ],
      "id": "3b1Li6KvW0zE"
    },
    {
      "cell_type": "code",
      "execution_count": null,
      "metadata": {
        "id": "4n7Fl7m76ypw"
      },
      "outputs": [],
      "source": [
        "##plot losses & accuracy over epochs\n",
        "import matplotlib.pyplot as plt\n",
        "\n",
        "# summarize history for accuracy\n",
        "plt.plot(history.history['accuracy'])\n",
        "plt.plot(history.history['val_accuracy'])\n",
        "plt.title('model accuracy')\n",
        "plt.ylabel('accuracy')\n",
        "plt.xlabel('epoch')\n",
        "plt.legend(['Train', 'Validation'], loc='upper left')\n",
        "plt.show()\n",
        "# summarize history for loss\n",
        "plt.plot(history.history['loss'])\n",
        "plt.plot(history.history['val_loss'])\n",
        "plt.title('model loss')\n",
        "plt.ylabel('loss')\n",
        "plt.xlabel('epoch')\n",
        "plt.legend(['Train', 'Validation'], loc='upper left')\n",
        "plt.show()"
      ],
      "id": "4n7Fl7m76ypw"
    }
  ],
  "metadata": {
    "colab": {
      "collapsed_sections": [],
      "name": "CNN1.ipynb",
      "provenance": []
    },
    "kernelspec": {
      "display_name": "Python 3 (ipykernel)",
      "language": "python",
      "name": "python3"
    },
    "language_info": {
      "codemirror_mode": {
        "name": "ipython",
        "version": 3
      },
      "file_extension": ".py",
      "mimetype": "text/x-python",
      "name": "python",
      "nbconvert_exporter": "python",
      "pygments_lexer": "ipython3",
      "version": "3.9.7"
    },
    "accelerator": "GPU"
  },
  "nbformat": 4,
  "nbformat_minor": 5
}