{
  "cells": [
    {
      "cell_type": "markdown",
      "metadata": {
        "id": "oFLxy-0Z8_Hj"
      },
      "source": [
        "### **Imports**"
      ],
      "id": "oFLxy-0Z8_Hj"
    },
    {
      "cell_type": "code",
      "execution_count": null,
      "metadata": {
        "id": "ad82dd5f"
      },
      "outputs": [],
      "source": [
        "import random\n",
        "import numpy as np\n",
        "import tensorflow as tf\n",
        "from tensorflow import keras\n",
        "from keras import layers\n",
        "from keras.models import Sequential\n",
        "from keras.layers.convolutional import Conv2D\n",
        "from keras.layers import Conv2D, MaxPooling2D\n",
        "from keras.preprocessing.image import ImageDataGenerator\n",
        "from keras.layers import Dense, Activation, Flatten\n",
        "from keras.applications.vgg16 import VGG16\n",
        "from keras.layers import Dropout\n",
        "from keras.preprocessing.image import ImageDataGenerator"
      ],
      "id": "ad82dd5f"
    },
    {
      "cell_type": "code",
      "execution_count": null,
      "metadata": {
        "colab": {
          "base_uri": "https://localhost:8080/"
        },
        "id": "PgJSB27ePRjC",
        "outputId": "adf3cef1-0b2e-4d59-92f9-27a8e5416602"
      },
      "outputs": [
        {
          "output_type": "stream",
          "name": "stdout",
          "text": [
            "Drive already mounted at /content/drive; to attempt to forcibly remount, call drive.mount(\"/content/drive\", force_remount=True).\n"
          ]
        }
      ],
      "source": [
        "from google.colab import drive\n",
        "drive.mount('/content/drive')"
      ],
      "id": "PgJSB27ePRjC"
    },
    {
      "cell_type": "markdown",
      "metadata": {
        "id": "HzA8x_P89H4W"
      },
      "source": [
        "### **Create model**"
      ],
      "id": "HzA8x_P89H4W"
    },
    {
      "cell_type": "code",
      "execution_count": null,
      "metadata": {
        "id": "b6812533"
      },
      "outputs": [],
      "source": [
        "## Modifiable variables\n",
        "input_shape = (200,200,3) ##based on our images 200x200x3\n",
        "epochs = 25 ##can increase as needed -- tradeoff with size\n",
        "batch_size = 128 ## can decrease as needed -- tradeoff with size\n",
        "number_of_test_images = 2000;\n",
        "number_of_train_images = 10000;\n",
        "\n",
        "CorrectLabels = [];\n",
        "for i in range(0, 1000):\n",
        "  CorrectLabels.append(0); ##cats\n",
        "for i in range(0, 1000):\n",
        "  CorrectLabels.append(1); ##dogs\n",
        "\n",
        "## Load pretrained VGG16\n",
        "pre_trained_model = VGG16(input_shape=input_shape, include_top=False, weights=\"imagenet\")\n",
        "\n",
        "## These layers were already trained. Do not train them again\n",
        "for layer in pre_trained_model.layers[:15]:\n",
        "    layer.trainable = False\n",
        "for layer in pre_trained_model.layers[15:]:\n",
        "    layer.trainable = True\n",
        "\n",
        "# Specify networks output    \n",
        "last_layer = pre_trained_model.get_layer('block5_pool')\n",
        "last_output = last_layer.output\n",
        "    \n",
        "## Flatten the output layer to one dimension\n",
        "x = tf.keras.layers.GlobalMaxPool2D()(last_output)\n",
        "\n",
        "## Add a fully connected layer with 512 hidden units and ReLU activation\n",
        "x = Dense(512, activation='relu')(x)\n",
        "\n",
        "## Add a dropout rate of 0.5\n",
        "x = Dropout(0.5)(x)\n",
        "\n",
        "## Add a final sigmoid layer for classification\n",
        "x = layers.Dense(1, activation='sigmoid')(x)\n",
        "\n",
        "## Define & compile our model\n",
        "our_vgg = tf.keras.Model(pre_trained_model.input, x)\n",
        "our_vgg.compile(loss='binary_crossentropy', optimizer=tf.keras.optimizers.SGD(learning_rate=1e-4, momentum=0.9), metrics=['accuracy'])"
      ],
      "id": "b6812533"
    },
    {
      "cell_type": "markdown",
      "metadata": {
        "id": "aecNyvPM9-8L"
      },
      "source": [
        "### **Train model**"
      ],
      "id": "aecNyvPM9-8L"
    },
    {
      "cell_type": "code",
      "execution_count": null,
      "metadata": {
        "colab": {
          "base_uri": "https://localhost:8080/"
        },
        "id": "Eshmf11r-qE2",
        "outputId": "9340046b-f499-45f6-fd8a-5f13926819f5"
      },
      "outputs": [
        {
          "output_type": "stream",
          "name": "stdout",
          "text": [
            "Found 10000 images belonging to 2 classes.\n",
            "Found 2000 images belonging to 2 classes.\n"
          ]
        }
      ],
      "source": [
        "train = train_datagen = ImageDataGenerator(\n",
        "    rotation_range=15,\n",
        "    rescale=1./255,\n",
        "    shear_range=0.2,\n",
        "    zoom_range=0.2,\n",
        "    horizontal_flip=True,\n",
        "    fill_mode='nearest',\n",
        "    width_shift_range=0.1,\n",
        "    height_shift_range=0.1\n",
        ")\n",
        "test = ImageDataGenerator(rescale=1./255)\n",
        "\n",
        "# prepare iterators\n",
        "train_it = train.flow_from_directory(\"./drive/Shareddrives/EECS 351 Project/half_cats_and_dogs/train\" , shuffle=True, class_mode='binary', batch_size=batch_size, target_size=(200, 200))\n",
        "test_it = test.flow_from_directory(\"./drive/Shareddrives/EECS 351 Project/half_cats_and_dogs/validation\", shuffle=False, class_mode='binary', batch_size=batch_size, target_size=(200, 200))"
      ],
      "id": "Eshmf11r-qE2"
    },
    {
      "cell_type": "code",
      "execution_count": null,
      "metadata": {
        "colab": {
          "base_uri": "https://localhost:8080/"
        },
        "id": "38bab788",
        "outputId": "b6a8e87d-a736-43e8-abbc-0631ca67d80e"
      },
      "outputs": [
        {
          "output_type": "stream",
          "name": "stdout",
          "text": [
            "Epoch 1/25\n",
            "78/78 [==============================] - 148s 2s/step - loss: 0.7038 - accuracy: 0.5850 - val_loss: 0.5182 - val_accuracy: 0.8135 - lr: 1.0000e-04\n",
            "Epoch 2/25\n",
            "78/78 [==============================] - 132s 2s/step - loss: 0.5491 - accuracy: 0.7092 - val_loss: 0.3902 - val_accuracy: 0.8771 - lr: 1.0000e-04\n",
            "Epoch 3/25\n",
            "78/78 [==============================] - 133s 2s/step - loss: 0.4437 - accuracy: 0.7933 - val_loss: 0.3107 - val_accuracy: 0.8911 - lr: 1.0000e-04\n",
            "Epoch 4/25\n",
            "78/78 [==============================] - 132s 2s/step - loss: 0.3648 - accuracy: 0.8391 - val_loss: 0.2645 - val_accuracy: 0.9005 - lr: 1.0000e-04\n",
            "Epoch 5/25\n",
            "78/78 [==============================] - 133s 2s/step - loss: 0.3224 - accuracy: 0.8603 - val_loss: 0.2394 - val_accuracy: 0.9115 - lr: 1.0000e-04\n",
            "Epoch 6/25\n",
            "78/78 [==============================] - 134s 2s/step - loss: 0.2845 - accuracy: 0.8820 - val_loss: 0.2294 - val_accuracy: 0.9062 - lr: 1.0000e-04\n",
            "Epoch 7/25\n",
            "78/78 [==============================] - 131s 2s/step - loss: 0.2612 - accuracy: 0.8889 - val_loss: 0.2124 - val_accuracy: 0.9151 - lr: 1.0000e-04\n",
            "Epoch 8/25\n",
            "78/78 [==============================] - 132s 2s/step - loss: 0.2480 - accuracy: 0.8923 - val_loss: 0.2012 - val_accuracy: 0.9172 - lr: 1.0000e-04\n",
            "Epoch 9/25\n",
            "78/78 [==============================] - 132s 2s/step - loss: 0.2239 - accuracy: 0.9062 - val_loss: 0.1963 - val_accuracy: 0.9229 - lr: 1.0000e-04\n",
            "Epoch 10/25\n",
            "78/78 [==============================] - 132s 2s/step - loss: 0.2248 - accuracy: 0.9073 - val_loss: 0.1921 - val_accuracy: 0.9250 - lr: 1.0000e-04\n",
            "Epoch 11/25\n",
            "78/78 [==============================] - 132s 2s/step - loss: 0.2088 - accuracy: 0.9126 - val_loss: 0.1832 - val_accuracy: 0.9297 - lr: 1.0000e-04\n",
            "Epoch 12/25\n",
            "78/78 [==============================] - 132s 2s/step - loss: 0.2065 - accuracy: 0.9136 - val_loss: 0.1775 - val_accuracy: 0.9292 - lr: 1.0000e-04\n",
            "Epoch 13/25\n",
            "78/78 [==============================] - 132s 2s/step - loss: 0.2002 - accuracy: 0.9176 - val_loss: 0.1782 - val_accuracy: 0.9318 - lr: 1.0000e-04\n",
            "Epoch 14/25\n",
            "78/78 [==============================] - 133s 2s/step - loss: 0.1884 - accuracy: 0.9237 - val_loss: 0.1733 - val_accuracy: 0.9328 - lr: 1.0000e-04\n",
            "Epoch 15/25\n",
            "78/78 [==============================] - 132s 2s/step - loss: 0.1853 - accuracy: 0.9230 - val_loss: 0.1656 - val_accuracy: 0.9344 - lr: 1.0000e-04\n",
            "Epoch 16/25\n",
            "78/78 [==============================] - 131s 2s/step - loss: 0.1760 - accuracy: 0.9264 - val_loss: 0.1643 - val_accuracy: 0.9359 - lr: 1.0000e-04\n",
            "Epoch 17/25\n",
            "78/78 [==============================] - 132s 2s/step - loss: 0.1710 - accuracy: 0.9289 - val_loss: 0.1698 - val_accuracy: 0.9339 - lr: 1.0000e-04\n",
            "Epoch 18/25\n",
            "78/78 [==============================] - 132s 2s/step - loss: 0.1743 - accuracy: 0.9282 - val_loss: 0.1593 - val_accuracy: 0.9375 - lr: 1.0000e-04\n",
            "Epoch 19/25\n",
            "78/78 [==============================] - 131s 2s/step - loss: 0.1652 - accuracy: 0.9318 - val_loss: 0.1661 - val_accuracy: 0.9354 - lr: 1.0000e-04\n",
            "Epoch 20/25\n",
            "78/78 [==============================] - 131s 2s/step - loss: 0.1597 - accuracy: 0.9337 - val_loss: 0.1557 - val_accuracy: 0.9401 - lr: 1.0000e-04\n",
            "Epoch 21/25\n",
            "78/78 [==============================] - 133s 2s/step - loss: 0.1553 - accuracy: 0.9361 - val_loss: 0.1583 - val_accuracy: 0.9370 - lr: 1.0000e-04\n",
            "Epoch 22/25\n",
            "78/78 [==============================] - ETA: 0s - loss: 0.1556 - accuracy: 0.9354\n",
            "Epoch 22: ReduceLROnPlateau reducing learning rate to 4.999999873689376e-05.\n",
            "78/78 [==============================] - 132s 2s/step - loss: 0.1556 - accuracy: 0.9354 - val_loss: 0.1518 - val_accuracy: 0.9401 - lr: 1.0000e-04\n",
            "Epoch 23/25\n",
            "78/78 [==============================] - 131s 2s/step - loss: 0.1541 - accuracy: 0.9385 - val_loss: 0.1593 - val_accuracy: 0.9385 - lr: 5.0000e-05\n",
            "Epoch 24/25\n",
            "78/78 [==============================] - 131s 2s/step - loss: 0.1473 - accuracy: 0.9389 - val_loss: 0.1526 - val_accuracy: 0.9422 - lr: 5.0000e-05\n",
            "Epoch 25/25\n",
            "78/78 [==============================] - 132s 2s/step - loss: 0.1466 - accuracy: 0.9412 - val_loss: 0.1489 - val_accuracy: 0.9417 - lr: 5.0000e-05\n"
          ]
        }
      ],
      "source": [
        "## Variables to prevent overfitting\n",
        "earlystop = tf.keras.callbacks.EarlyStopping(patience=10, verbose=1, mode='auto') ##early stop = stop model learning after 10 epochs when val_loss value not decreased.\n",
        "learning_rate_reduction = tf.keras.callbacks.ReduceLROnPlateau(monitor='val_accuracy', patience=2, verbose=1, factor=0.5, min_lr=0.00001) ##reduce the learning rate when accuracy, for example, not increase for two continuous steps.\n",
        "callbacks = [earlystop, learning_rate_reduction] ##combine as callbacks to pass into fit function\n",
        "\n",
        "## Train on our data. This step takes time, be patient! Progress will be printed.\n",
        "history = our_vgg.fit(train_it, epochs=epochs,validation_data=test_it,validation_steps=number_of_test_images//batch_size, steps_per_epoch=number_of_train_images//batch_size, callbacks=callbacks)"
      ],
      "id": "38bab788"
    },
    {
      "cell_type": "markdown",
      "metadata": {
        "id": "gwyl8eIa-DiW"
      },
      "source": [
        "### **Test model**"
      ],
      "id": "gwyl8eIa-DiW"
    },
    {
      "cell_type": "code",
      "execution_count": null,
      "metadata": {
        "id": "f66ddc59",
        "colab": {
          "base_uri": "https://localhost:8080/"
        },
        "outputId": "f8b46601-919c-446d-9922-78ae2aa853e7"
      },
      "outputs": [
        {
          "output_type": "stream",
          "name": "stdout",
          "text": [
            "Test loss: > 14.901\n",
            "Test accuracy: > 94.050\n"
          ]
        }
      ],
      "source": [
        "# evaluate model and print accuracy & loss\n",
        "loss, accuracy = our_vgg.evaluate(test_it, steps=len(test_it), verbose=0)\n",
        "print('Test loss: > %.3f' % (loss * 100.0))\n",
        "print('Test accuracy: > %.3f' % (accuracy * 100.0))"
      ],
      "id": "f66ddc59"
    },
    {
      "cell_type": "markdown",
      "metadata": {
        "id": "7O-ZGvaK-GVf"
      },
      "source": [
        "### **Create Graphs**"
      ],
      "id": "7O-ZGvaK-GVf"
    },
    {
      "cell_type": "code",
      "execution_count": null,
      "metadata": {
        "id": "5HMsYh0G8udV"
      },
      "outputs": [],
      "source": [
        "# make confusion matrix\n",
        "import sklearn.metrics as metrics\n",
        "from sklearn.metrics import confusion_matrix\n",
        "\n",
        "predicted_labels = our_vgg.predict(test_it);"
      ],
      "id": "5HMsYh0G8udV"
    },
    {
      "cell_type": "code",
      "source": [
        "# convert predicted labels from probabilities to binary values\n",
        "binaryPredictedLabels = []\n",
        "probaPredictedLabels = predicted_labels.tolist()\n",
        "for test_sample_label in probaPredictedLabels:\n",
        "  if test_sample_label[0] < 0.5:\n",
        "    binaryPredictedLabels.append(0)\n",
        "  else:\n",
        "    binaryPredictedLabels.append(1)\n",
        "\n",
        "cm = confusion_matrix(CorrectLabels, binaryPredictedLabels)\n",
        "from sklearn.metrics import confusion_matrix, ConfusionMatrixDisplay\n",
        "disp = ConfusionMatrixDisplay(confusion_matrix=cm)\n",
        "disp.plot()"
      ],
      "metadata": {
        "colab": {
          "base_uri": "https://localhost:8080/",
          "height": 296
        },
        "id": "hk_VryNvm8-9",
        "outputId": "e24c7ede-44ab-47db-de81-d553db072e30"
      },
      "id": "hk_VryNvm8-9",
      "execution_count": null,
      "outputs": [
        {
          "output_type": "execute_result",
          "data": {
            "text/plain": [
              "<sklearn.metrics._plot.confusion_matrix.ConfusionMatrixDisplay at 0x7f79b1170d10>"
            ]
          },
          "metadata": {},
          "execution_count": 8
        },
        {
          "output_type": "display_data",
          "data": {
            "text/plain": [
              "<Figure size 432x288 with 2 Axes>"
            ],
            "image/png": "[encoded data removed]"
          },
          "metadata": {
            "needs_background": "light"
          }
        }
      ]
    },
    {
      "cell_type": "code",
      "execution_count": null,
      "metadata": {
        "id": "4n7Fl7m76ypw",
        "colab": {
          "base_uri": "https://localhost:8080/",
          "height": 590
        },
        "outputId": "bdf4898c-10d1-4f65-993a-84075cb970e3"
      },
      "outputs": [
        {
          "output_type": "display_data",
          "data": {
            "text/plain": [
              "<Figure size 432x288 with 1 Axes>"
            ],
            "image/png": "[encoded data removed]"
          },
          "metadata": {
            "needs_background": "light"
          }
        },
        {
          "output_type": "stream",
          "name": "stdout",
          "text": [
            "\n"
          ]
        },
        {
          "output_type": "display_data",
          "data": {
            "text/plain": [
              "<Figure size 432x288 with 1 Axes>"
            ],
            "image/png": "[encoded data removed]"
          },
          "metadata": {
            "needs_background": "light"
          }
        }
      ],
      "source": [
        "##plot losses & accuracy over epochs\n",
        "import matplotlib.pyplot as plt\n",
        "\n",
        "# summarize history for accuracy\n",
        "plt.plot(history.history['accuracy'])\n",
        "plt.plot(history.history['val_accuracy'])\n",
        "plt.title('model accuracy')\n",
        "plt.ylabel('accuracy')\n",
        "plt.xlabel('epoch')\n",
        "plt.legend(['Train', 'Validation'], loc='upper left')\n",
        "plt.show()\n",
        "print()\n",
        "# summarize history for loss\n",
        "plt.plot(history.history['loss'])\n",
        "plt.plot(history.history['val_loss'])\n",
        "plt.title('model loss')\n",
        "plt.ylabel('loss')\n",
        "plt.xlabel('epoch')\n",
        "plt.legend(['Train', 'Validation'], loc='upper left')\n",
        "plt.show()"
      ],
      "id": "4n7Fl7m76ypw"
    }
  ],
  "metadata": {
    "colab": {
      "collapsed_sections": [],
      "name": "VGG16.ipynb",
      "provenance": []
    },
    "kernelspec": {
      "display_name": "Python 3 (ipykernel)",
      "language": "python",
      "name": "python3"
    },
    "language_info": {
      "codemirror_mode": {
        "name": "ipython",
        "version": 3
      },
      "file_extension": ".py",
      "mimetype": "text/x-python",
      "name": "python",
      "nbconvert_exporter": "python",
      "pygments_lexer": "ipython3",
      "version": "3.9.7"
    },
    "accelerator": "GPU"
  },
  "nbformat": 4,
  "nbformat_minor": 5
}